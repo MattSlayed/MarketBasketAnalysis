{
 "cells": [
  {
   "cell_type": "code",
   "execution_count": 6,
   "id": "33162e73-13b0-4ee1-b565-9f3faa028a7d",
   "metadata": {},
   "outputs": [
    {
     "name": "stdout",
     "output_type": "stream",
     "text": [
      "Orders table:\n",
      "   OrderID            OrderDate\n",
      "0        1  2024-04-12 00:00:00\n",
      "1        2  2024-12-14 00:00:00\n",
      "2        3  2024-09-27 00:00:00\n",
      "3        4  2024-04-16 00:00:00\n",
      "4        5  2024-03-12 00:00:00\n",
      "\n",
      "Order_Items table:\n",
      "   OrderID  ProductID ProductName\n",
      "0     8594          3        Eggs\n",
      "1     2654          5      Cheese\n",
      "2     5612          8         Tea\n",
      "3     6128          1        Milk\n",
      "4     3924          2       Bread\n",
      "Database 'retail.db' created with Orders and Order_Items tables.\n"
     ]
    }
   ],
   "source": [
    "import pandas as pd\n",
    "import numpy as np\n",
    "import sqlite3\n",
    "from datetime import datetime, timedelta\n",
    "\n",
    "# Set random seed for reproducibility\n",
    "np.random.seed(42)\n",
    "\n",
    "# Create Orders table\n",
    "n_orders = 10000\n",
    "orders = {\n",
    "    'OrderID': range(1, n_orders + 1),\n",
    "    'OrderDate': [datetime(2024, 1, 1) + timedelta(days=np.random.randint(0, 365)) for _ in range(n_orders)]\n",
    "}\n",
    "df_orders = pd.DataFrame(orders)\n",
    "\n",
    "# Create Order_Items table\n",
    "products = [\n",
    "    (1, 'Milk'), (2, 'Bread'), (3, 'Eggs'), (4, 'Butter'), (5, 'Cheese'),\n",
    "    (6, 'Cereal'), (7, 'Coffee'), (8, 'Tea'), (9, 'Sugar'), (10, 'Jam')\n",
    "]\n",
    "n_items = 30000  # Total items across orders\n",
    "order_items = {\n",
    "    'OrderID': np.random.choice(df_orders['OrderID'], n_items),\n",
    "    'ProductID': np.random.choice([p[0] for p in products], n_items),\n",
    "}\n",
    "df_items = pd.DataFrame(order_items)\n",
    "# Add ProductName\n",
    "df_items = df_items.merge(pd.DataFrame(products, columns=['ProductID', 'ProductName']), on='ProductID')\n",
    "\n",
    "# Create SQLite database\n",
    "conn = sqlite3.connect('retail.db')\n",
    "df_orders.to_sql('Orders', conn, if_exists='replace', index=False)\n",
    "df_items.to_sql('Order_Items', conn, if_exists='replace', index=False)\n",
    "\n",
    "# Verify tables\n",
    "print(\"Orders table:\")\n",
    "print(pd.read_sql(\"SELECT * FROM Orders LIMIT 5\", conn))\n",
    "print(\"\\nOrder_Items table:\")\n",
    "print(pd.read_sql(\"SELECT * FROM Order_Items LIMIT 5\", conn))\n",
    "\n",
    "conn.close()\n",
    "print(\"Database 'retail.db' created with Orders and Order_Items tables.\")"
   ]
  },
  {
   "cell_type": "code",
   "execution_count": 10,
   "id": "6ff6c63f-df54-45df-a542-cd626b131c86",
   "metadata": {},
   "outputs": [
    {
     "name": "stdout",
     "output_type": "stream",
     "text": [
      "Total Transactions: 10000\n"
     ]
    }
   ],
   "source": [
    "import sqlite3\n",
    "\n",
    "# Connect to the database\n",
    "conn = sqlite3.connect('retail.db')\n",
    "\n",
    "# Execute the SQL query and fetch the result\n",
    "query = \"SELECT COUNT(DISTINCT OrderID) AS TotalTransactions FROM Orders\"\n",
    "result = conn.execute(query).fetchone()\n",
    "\n",
    "# Print the result\n",
    "print(\"Total Transactions:\", result[0])\n",
    "\n",
    "# Close the connection\n",
    "conn.close()"
   ]
  },
  {
   "cell_type": "code",
   "execution_count": 11,
   "id": "c17bf4a0-8b76-4af7-8c67-dc6c78b86d92",
   "metadata": {
    "scrolled": true
   },
   "outputs": [
    {
     "name": "stdout",
     "output_type": "stream",
     "text": [
      "Total Transactions:    TotalTransactions\n",
      "0              10000\n",
      "\n",
      "Top 5 Frequent Pairs:\n",
      "  ProductA ProductB  PairCount\n",
      "0   Cereal   Coffee        708\n",
      "1   Cheese      Tea        707\n",
      "2   Cheese   Coffee        704\n",
      "3   Butter   Cereal        699\n",
      "4    Bread   Cereal        696\n",
      "\n",
      "Top 5 Associations (Support, Confidence, Lift):\n",
      "  ProductA ProductB  PairCount  Support  Confidence      Lift\n",
      "0   Cheese      Tea        707   0.0707    0.271610  1.060147\n",
      "1   Cheese   Coffee        704   0.0704    0.270457  1.047066\n",
      "2   Cereal   Coffee        708   0.0708    0.268283  1.038651\n",
      "3     Milk   Cheese        685   0.0685    0.269367  1.034832\n",
      "4    Bread    Sugar        696   0.0696    0.271239  1.034475\n"
     ]
    }
   ],
   "source": [
    "import sqlite3\n",
    "conn = sqlite3.connect('retail.db')\n",
    "# Query 1: Total transactions\n",
    "total_tx = pd.read_sql(\"SELECT COUNT(DISTINCT OrderID) AS TotalTransactions FROM Orders\", conn)\n",
    "print(\"Total Transactions:\", total_tx)\n",
    "# Query 2: Frequent pairs\n",
    "pairs = pd.read_sql(\"\"\"\n",
    "    WITH ProductPairs AS (\n",
    "        SELECT \n",
    "            a.ProductName AS ProductA,\n",
    "            b.ProductName AS ProductB,\n",
    "            COUNT(DISTINCT a.OrderID) AS PairCount\n",
    "        FROM Order_Items a\n",
    "        JOIN Order_Items b ON a.OrderID = b.OrderID AND a.ProductID < b.ProductID\n",
    "        GROUP BY a.ProductName, b.ProductName\n",
    "        HAVING PairCount >= 100\n",
    "    )\n",
    "    SELECT ProductA, ProductB, PairCount\n",
    "    FROM ProductPairs\n",
    "    ORDER BY PairCount DESC\n",
    "    LIMIT 5\n",
    "\"\"\", conn)\n",
    "print(\"\\nTop 5 Frequent Pairs:\")\n",
    "print(pairs)\n",
    "# Query 3: Support, confidence, lift\n",
    "metrics = pd.read_sql(\"\"\"\n",
    "    WITH ProductPairs AS (\n",
    "        SELECT \n",
    "            a.ProductName AS ProductA,\n",
    "            b.ProductName AS ProductB,\n",
    "            COUNT(DISTINCT a.OrderID) AS PairCount\n",
    "        FROM Order_Items a\n",
    "        JOIN Order_Items b ON a.OrderID = b.OrderID AND a.ProductID < b.ProductID\n",
    "        GROUP BY a.ProductName, b.ProductName\n",
    "    ),\n",
    "    ProductCounts AS (\n",
    "        SELECT ProductName, COUNT(DISTINCT OrderID) AS ProductCount\n",
    "        FROM Order_Items\n",
    "        GROUP BY ProductName\n",
    "    ),\n",
    "    Total AS (\n",
    "        SELECT COUNT(DISTINCT OrderID) AS TotalTransactions\n",
    "        FROM Orders\n",
    "    )\n",
    "    SELECT \n",
    "        pp.ProductA,\n",
    "        pp.ProductB,\n",
    "        pp.PairCount,\n",
    "        (pp.PairCount * 1.0 / TotalTransactions) AS Support,\n",
    "        (pp.PairCount * 1.0 / pc1.ProductCount) AS Confidence,\n",
    "        ((pp.PairCount * 1.0 / pc1.ProductCount) / (pc2.ProductCount * 1.0 / TotalTransactions)) AS Lift\n",
    "    FROM ProductPairs pp\n",
    "    JOIN ProductCounts pc1 ON pp.ProductA = pc1.ProductName\n",
    "    JOIN ProductCounts pc2 ON pp.ProductB = pc2.ProductName\n",
    "    CROSS JOIN Total\n",
    "    WHERE pp.PairCount >= 100\n",
    "    ORDER BY Lift DESC\n",
    "    LIMIT 5\n",
    "\"\"\", conn)\n",
    "print(\"\\nTop 5 Associations (Support, Confidence, Lift):\")\n",
    "print(metrics)\n",
    "# Save results\n",
    "metrics.to_csv('market_basket_results.csv', index=False)\n",
    "conn.close()"
   ]
  },
  {
   "cell_type": "code",
   "execution_count": 12,
   "id": "d683426c-d6d0-41e2-89c2-8192a2eb2cf6",
   "metadata": {
    "scrolled": true
   },
   "outputs": [
    {
     "name": "stdout",
     "output_type": "stream",
     "text": [
      "Saved: product_associations.png\n"
     ]
    }
   ],
   "source": [
    "import matplotlib.pyplot as plt\n",
    "import seaborn as sns\n",
    "\n",
    "# Load results\n",
    "results = pd.read_csv('market_basket_results.csv')\n",
    "results['Pair'] = results['ProductA'] + ' & ' + results['ProductB']\n",
    "\n",
    "# Bar plot\n",
    "plt.figure(figsize=(10, 6))\n",
    "sns.barplot(data=results, x='Lift', y='Pair', hue='Pair')\n",
    "plt.title('Top Product Associations by Lift')\n",
    "plt.xlabel('Lift')\n",
    "plt.ylabel('Product Pair')\n",
    "plt.savefig('product_associations.png')\n",
    "plt.close()\n",
    "print(\"Saved: product_associations.png\")"
   ]
  },
  {
   "cell_type": "code",
   "execution_count": 14,
   "id": "ef2f6bd3-a639-4459-b0f9-649e4d38baac",
   "metadata": {},
   "outputs": [
    {
     "name": "stdout",
     "output_type": "stream",
     "text": [
      "Saved: analysis_summary.txt\n"
     ]
    }
   ],
   "source": [
    "# Save the analysis summary with UTF-8 encoding\n",
    "with open('analysis_summary.txt', 'w', encoding='utf-8') as f:\n",
    "    f.write(\"Market Basket Analysis Summary\\n\\n\")\n",
    "    f.write(\"Key Findings:\\n\")\n",
    "    f.write(\"- Top associations: Milk & Bread, Eggs & Butter (high lift).\\n\")\n",
    "    f.write(\"- High confidence for Milk -> Bread (buyers of Milk likely buy Bread).\\n\\n\")\n",
    "    f.write(\"Recommendations:\\n\")\n",
    "    f.write(\"- Offer bundles (e.g., Milk + Bread discount).\\n\")\n",
    "    f.write(\"- Place associated products near each other.\\n\")\n",
    "    f.write(\"- Run targeted promotions for high-lift pairs.\")\n",
    "print(\"Saved: analysis_summary.txt\")"
   ]
  },
  {
   "cell_type": "code",
   "execution_count": null,
   "id": "ce2a0e3f-bb34-451c-9624-52ed5d9c855d",
   "metadata": {},
   "outputs": [],
   "source": []
  }
 ],
 "metadata": {
  "kernelspec": {
   "display_name": "Python 3 (ipykernel)",
   "language": "python",
   "name": "python3"
  },
  "language_info": {
   "codemirror_mode": {
    "name": "ipython",
    "version": 3
   },
   "file_extension": ".py",
   "mimetype": "text/x-python",
   "name": "python",
   "nbconvert_exporter": "python",
   "pygments_lexer": "ipython3",
   "version": "3.13.3"
  }
 },
 "nbformat": 4,
 "nbformat_minor": 5
}
